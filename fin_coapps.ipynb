{
 "cells": [
  {
   "cell_type": "code",
   "execution_count": 2,
   "id": "c25eafda",
   "metadata": {},
   "outputs": [
    {
     "name": "stderr",
     "output_type": "stream",
     "text": [
      "C:\\Users\\chakr\\anaconda3\\lib\\site-packages\\scipy\\__init__.py:146: UserWarning: A NumPy version >=1.16.5 and <1.23.0 is required for this version of SciPy (detected version 1.26.3\n",
      "  warnings.warn(f\"A NumPy version >={np_minversion} and <{np_maxversion}\"\n"
     ]
    }
   ],
   "source": [
    "import numpy as np\n",
    "import pandas as pd\n",
    "import matplotlib.pyplot as plt\n",
    "import seaborn as sns"
   ]
  },
  {
   "cell_type": "code",
   "execution_count": 3,
   "id": "50dd4dc9",
   "metadata": {},
   "outputs": [
    {
     "data": {
      "text/html": [
       "<div>\n",
       "<style scoped>\n",
       "    .dataframe tbody tr th:only-of-type {\n",
       "        vertical-align: middle;\n",
       "    }\n",
       "\n",
       "    .dataframe tbody tr th {\n",
       "        vertical-align: top;\n",
       "    }\n",
       "\n",
       "    .dataframe thead th {\n",
       "        text-align: right;\n",
       "    }\n",
       "</style>\n",
       "<table border=\"1\" class=\"dataframe\">\n",
       "  <thead>\n",
       "    <tr style=\"text-align: right;\">\n",
       "      <th></th>\n",
       "      <th>tweet_id</th>\n",
       "      <th>text</th>\n",
       "      <th>source</th>\n",
       "      <th>user_id</th>\n",
       "      <th>sentiment</th>\n",
       "      <th>topic</th>\n",
       "      <th>rumor_label</th>\n",
       "    </tr>\n",
       "  </thead>\n",
       "  <tbody>\n",
       "    <tr>\n",
       "      <th>0</th>\n",
       "      <td>1</td>\n",
       "      <td>New study suggests that drinking lemon water c...</td>\n",
       "      <td>Twitter</td>\n",
       "      <td>123456</td>\n",
       "      <td>Positive</td>\n",
       "      <td>Health</td>\n",
       "      <td>True</td>\n",
       "    </tr>\n",
       "    <tr>\n",
       "      <th>1</th>\n",
       "      <td>2</td>\n",
       "      <td>Breaking News: UFO spotted over New York City!...</td>\n",
       "      <td>News</td>\n",
       "      <td>789012</td>\n",
       "      <td>Neutral</td>\n",
       "      <td>UFO</td>\n",
       "      <td>False</td>\n",
       "    </tr>\n",
       "    <tr>\n",
       "      <th>2</th>\n",
       "      <td>3</td>\n",
       "      <td>Alert: Beware of fake COVID-19 vaccine scams c...</td>\n",
       "      <td>Government</td>\n",
       "      <td>345678</td>\n",
       "      <td>Negative</td>\n",
       "      <td>COVID-19</td>\n",
       "      <td>False</td>\n",
       "    </tr>\n",
       "    <tr>\n",
       "      <th>3</th>\n",
       "      <td>4</td>\n",
       "      <td>Rumors circulating about a potential merger be...</td>\n",
       "      <td>Twitter</td>\n",
       "      <td>567890</td>\n",
       "      <td>Neutral</td>\n",
       "      <td>Tech</td>\n",
       "      <td>True</td>\n",
       "    </tr>\n",
       "    <tr>\n",
       "      <th>4</th>\n",
       "      <td>5</td>\n",
       "      <td>New conspiracy theory suggests that the moon l...</td>\n",
       "      <td>Online Forum</td>\n",
       "      <td>901234</td>\n",
       "      <td>Negative</td>\n",
       "      <td>Conspiracy</td>\n",
       "      <td>True</td>\n",
       "    </tr>\n",
       "    <tr>\n",
       "      <th>5</th>\n",
       "      <td>6</td>\n",
       "      <td>No evidence to support claims of a cure for ba...</td>\n",
       "      <td>News</td>\n",
       "      <td>567890</td>\n",
       "      <td>Neutral</td>\n",
       "      <td>Health</td>\n",
       "      <td>False</td>\n",
       "    </tr>\n",
       "    <tr>\n",
       "      <th>6</th>\n",
       "      <td>7</td>\n",
       "      <td>Local community spreading rumors about a new h...</td>\n",
       "      <td>Twitter</td>\n",
       "      <td>123456</td>\n",
       "      <td>Neutral</td>\n",
       "      <td>Community</td>\n",
       "      <td>True</td>\n",
       "    </tr>\n",
       "    <tr>\n",
       "      <th>7</th>\n",
       "      <td>8</td>\n",
       "      <td>Scientific community dismisses claims of a cur...</td>\n",
       "      <td>Online Forum</td>\n",
       "      <td>345678</td>\n",
       "      <td>Negative</td>\n",
       "      <td>Health</td>\n",
       "      <td>False</td>\n",
       "    </tr>\n",
       "    <tr>\n",
       "      <th>8</th>\n",
       "      <td>9</td>\n",
       "      <td>Rumors of a celebrity breakup spark controvers...</td>\n",
       "      <td>Twitter</td>\n",
       "      <td>789012</td>\n",
       "      <td>Neutral</td>\n",
       "      <td>Celebrity</td>\n",
       "      <td>True</td>\n",
       "    </tr>\n",
       "    <tr>\n",
       "      <th>9</th>\n",
       "      <td>10</td>\n",
       "      <td>Social media platforms crackdown on fake news ...</td>\n",
       "      <td>News</td>\n",
       "      <td>901234</td>\n",
       "      <td>Positive</td>\n",
       "      <td>Social Media</td>\n",
       "      <td>False</td>\n",
       "    </tr>\n",
       "  </tbody>\n",
       "</table>\n",
       "</div>"
      ],
      "text/plain": [
       "   tweet_id                                               text        source  \\\n",
       "0         1  New study suggests that drinking lemon water c...       Twitter   \n",
       "1         2  Breaking News: UFO spotted over New York City!...          News   \n",
       "2         3  Alert: Beware of fake COVID-19 vaccine scams c...    Government   \n",
       "3         4  Rumors circulating about a potential merger be...       Twitter   \n",
       "4         5  New conspiracy theory suggests that the moon l...  Online Forum   \n",
       "5         6  No evidence to support claims of a cure for ba...          News   \n",
       "6         7  Local community spreading rumors about a new h...       Twitter   \n",
       "7         8  Scientific community dismisses claims of a cur...  Online Forum   \n",
       "8         9  Rumors of a celebrity breakup spark controvers...       Twitter   \n",
       "9        10  Social media platforms crackdown on fake news ...          News   \n",
       "\n",
       "   user_id sentiment         topic  rumor_label  \n",
       "0   123456  Positive        Health         True  \n",
       "1   789012   Neutral           UFO        False  \n",
       "2   345678  Negative      COVID-19        False  \n",
       "3   567890   Neutral          Tech         True  \n",
       "4   901234  Negative    Conspiracy         True  \n",
       "5   567890   Neutral        Health        False  \n",
       "6   123456   Neutral     Community         True  \n",
       "7   345678  Negative        Health        False  \n",
       "8   789012   Neutral     Celebrity         True  \n",
       "9   901234  Positive  Social Media        False  "
      ]
     },
     "execution_count": 3,
     "metadata": {},
     "output_type": "execute_result"
    }
   ],
   "source": [
    "data = pd.read_csv('omg.csv')\n",
    "data.head(10)"
   ]
  },
  {
   "cell_type": "code",
   "execution_count": 4,
   "id": "dfdbe1f8",
   "metadata": {},
   "outputs": [
    {
     "data": {
      "text/plain": [
       "(228, 7)"
      ]
     },
     "execution_count": 4,
     "metadata": {},
     "output_type": "execute_result"
    }
   ],
   "source": [
    "data.shape"
   ]
  },
  {
   "cell_type": "code",
   "execution_count": 5,
   "id": "00bd186b",
   "metadata": {},
   "outputs": [
    {
     "name": "stdout",
     "output_type": "stream",
     "text": [
      "<class 'pandas.core.frame.DataFrame'>\n",
      "RangeIndex: 228 entries, 0 to 227\n",
      "Data columns (total 7 columns):\n",
      " #   Column       Non-Null Count  Dtype \n",
      "---  ------       --------------  ----- \n",
      " 0   tweet_id     228 non-null    int64 \n",
      " 1   text         228 non-null    object\n",
      " 2   source       228 non-null    object\n",
      " 3   user_id      228 non-null    int64 \n",
      " 4   sentiment    228 non-null    object\n",
      " 5   topic        228 non-null    object\n",
      " 6   rumor_label  228 non-null    bool  \n",
      "dtypes: bool(1), int64(2), object(4)\n",
      "memory usage: 11.0+ KB\n"
     ]
    }
   ],
   "source": [
    "data.info()"
   ]
  },
  {
   "cell_type": "code",
   "execution_count": 6,
   "id": "333b6825",
   "metadata": {},
   "outputs": [
    {
     "data": {
      "text/plain": [
       "tweet_id       0\n",
       "text           0\n",
       "source         0\n",
       "user_id        0\n",
       "sentiment      0\n",
       "topic          0\n",
       "rumor_label    0\n",
       "dtype: int64"
      ]
     },
     "execution_count": 6,
     "metadata": {},
     "output_type": "execute_result"
    }
   ],
   "source": [
    "data.isna().sum()"
   ]
  },
  {
   "cell_type": "code",
   "execution_count": 7,
   "id": "466c8f6a",
   "metadata": {},
   "outputs": [
    {
     "data": {
      "image/png": "[encoded data removed]",
      "text/plain": [
       "<Figure size 576x432 with 1 Axes>"
      ]
     },
     "metadata": {
      "needs_background": "light"
     },
     "output_type": "display_data"
    }
   ],
   "source": [
    "plt.figure(figsize=(8, 6))\n",
    "sns.countplot(x='rumor_label', data=data)\n",
    "plt.title('Distribution of Rumor Labels')\n",
    "plt.xlabel('Rumor Label')\n",
    "plt.ylabel('Count')\n",
    "plt.show()"
   ]
  },
  {
   "cell_type": "code",
   "execution_count": 8,
   "id": "71763388",
   "metadata": {},
   "outputs": [
    {
     "data": {
      "image/png": "[encoded data removed]",
      "text/plain": [
       "<Figure size 576x432 with 1 Axes>"
      ]
     },
     "metadata": {
      "needs_background": "light"
     },
     "output_type": "display_data"
    }
   ],
   "source": [
    "plt.figure(figsize=(8, 6))\n",
    "sns.countplot(x='sentiment', hue='rumor_label', data=data)\n",
    "plt.title('Sentiment Distribution by Rumor Label')\n",
    "plt.xlabel('Sentiment')\n",
    "plt.ylabel('Count')\n",
    "plt.legend(title='Rumor Label')\n",
    "plt.show()"
   ]
  },
  {
   "cell_type": "code",
   "execution_count": 9,
   "id": "ab79ccd6",
   "metadata": {},
   "outputs": [
    {
     "data": {
      "image/png": "[encoded data removed]",
      "text/plain": [
       "<Figure size 576x432 with 1 Axes>"
      ]
     },
     "metadata": {
      "needs_background": "light"
     },
     "output_type": "display_data"
    }
   ],
   "source": [
    "text_source_counts = data['source'].value_counts()\n",
    "plt.figure(figsize=(8, 6))\n",
    "text_source_counts.plot(kind='bar', color='skyblue')\n",
    "plt.title('Count of Text Sources')\n",
    "plt.xlabel('Text Source')\n",
    "plt.ylabel('Count')\n",
    "plt.xticks(rotation=45)\n",
    "plt.tight_layout()\n",
    "plt.show()"
   ]
  },
  {
   "cell_type": "code",
   "execution_count": 10,
   "id": "8cbc678a",
   "metadata": {},
   "outputs": [
    {
     "data": {
      "image/png": "[encoded data removed]",
      "text/plain": [
       "<Figure size 1080x432 with 1 Axes>"
      ]
     },
     "metadata": {
      "needs_background": "light"
     },
     "output_type": "display_data"
    }
   ],
   "source": [
    "text_source_counts = data['topic'].value_counts()\n",
    "plt.figure(figsize=(15, 6))\n",
    "text_source_counts.plot(kind='bar', color='skyblue')\n",
    "plt.title('Count of Topics')\n",
    "plt.xlabel('Topic')\n",
    "plt.ylabel('Count')\n",
    "plt.xticks(rotation=45)\n",
    "plt.tight_layout()\n",
    "plt.show()"
   ]
  },
  {
   "cell_type": "code",
   "execution_count": 11,
   "id": "168020e0",
   "metadata": {},
   "outputs": [],
   "source": [
    "X = data['text']\n",
    "y = data['rumor_label']"
   ]
  },
  {
   "cell_type": "code",
   "execution_count": 12,
   "id": "a1c966a7",
   "metadata": {},
   "outputs": [
    {
     "name": "stdout",
     "output_type": "stream",
     "text": [
      "0      New study suggests that drinking lemon water c...\n",
      "1      Breaking News: UFO spotted over New York City!...\n",
      "2      Alert: Beware of fake COVID-19 vaccine scams c...\n",
      "3      Rumors circulating about a potential merger be...\n",
      "4      New conspiracy theory suggests that the moon l...\n",
      "                             ...                        \n",
      "223    Rumors of a government conspiracy to manipulat...\n",
      "224    Breaking: Rumors\\r\\n\\r\\n of a potential natura...\n",
      "225    Rumors of a new celebrity endorsement deal in ...\n",
      "226    Reports of a new trend in mindfulness meditati...\n",
      "227    Rumors of a major security breach at a leading...\n",
      "Name: text, Length: 228, dtype: object \n",
      "\n",
      "\n",
      " 0       True\n",
      "1      False\n",
      "2      False\n",
      "3       True\n",
      "4       True\n",
      "       ...  \n",
      "223     True\n",
      "224    False\n",
      "225     True\n",
      "226    False\n",
      "227     True\n",
      "Name: rumor_label, Length: 228, dtype: bool\n"
     ]
    }
   ],
   "source": [
    "print(X,\"\\n\\n\\n\",y)"
   ]
  },
  {
   "cell_type": "code",
   "execution_count": 13,
   "id": "2eb3c2cb",
   "metadata": {},
   "outputs": [],
   "source": [
    "from sklearn.feature_extraction.text import TfidfVectorizer\n",
    "vectorizer = TfidfVectorizer()\n",
    "X_vectorized = vectorizer.fit_transform(X)"
   ]
  },
  {
   "cell_type": "code",
   "execution_count": 14,
   "id": "2be46e27",
   "metadata": {},
   "outputs": [
    {
     "data": {
      "text/plain": [
       "<228x282 sparse matrix of type '<class 'numpy.float64'>'\n",
       "\twith 2101 stored elements in Compressed Sparse Row format>"
      ]
     },
     "execution_count": 14,
     "metadata": {},
     "output_type": "execute_result"
    }
   ],
   "source": [
    "X_vectorized"
   ]
  },
  {
   "cell_type": "code",
   "execution_count": 15,
   "id": "54adea03",
   "metadata": {},
   "outputs": [],
   "source": [
    "from sklearn.model_selection import train_test_split\n",
    "X_train, X_test, y_train, y_test = train_test_split(X_vectorized, y, test_size=0.2, random_state=42)"
   ]
  },
  {
   "cell_type": "code",
   "execution_count": 16,
   "id": "9127e100",
   "metadata": {},
   "outputs": [
    {
     "name": "stdout",
     "output_type": "stream",
     "text": [
      "Classification Report:\n",
      "              precision    recall  f1-score   support\n",
      "\n",
      "       False       1.00      0.96      0.98        24\n",
      "        True       0.96      1.00      0.98        22\n",
      "\n",
      "    accuracy                           0.98        46\n",
      "   macro avg       0.98      0.98      0.98        46\n",
      "weighted avg       0.98      0.98      0.98        46\n",
      "\n"
     ]
    }
   ],
   "source": [
    "from sklearn.metrics import accuracy_score,classification_report\n",
    "\n",
    "from sklearn.svm import LinearSVC\n",
    "\n",
    "S_classifier = LinearSVC()\n",
    "S_classifier.fit(X_train, y_train)\n",
    "y_pred = S_classifier.predict(X_test)\n",
    "svm_accuracy = accuracy_score(y_test, y_pred)*100\n",
    "\n",
    "print(\"Classification Report:\")\n",
    "print(classification_report(y_test, y_pred))"
   ]
  },
  {
   "cell_type": "code",
   "execution_count": 17,
   "id": "5a2a1adb",
   "metadata": {},
   "outputs": [
    {
     "name": "stdout",
     "output_type": "stream",
     "text": [
      "Classification Report:\n",
      "              precision    recall  f1-score   support\n",
      "\n",
      "       False       1.00      0.96      0.98        24\n",
      "        True       0.96      1.00      0.98        22\n",
      "\n",
      "    accuracy                           0.98        46\n",
      "   macro avg       0.98      0.98      0.98        46\n",
      "weighted avg       0.98      0.98      0.98        46\n",
      "\n"
     ]
    }
   ],
   "source": [
    "from sklearn.ensemble import RandomForestClassifier\n",
    "\n",
    "rf_classifier = RandomForestClassifier()\n",
    "rf_classifier.fit(X_train, y_train)\n",
    "rf_y_pred = rf_classifier.predict(X_test)\n",
    "rf_accuracy = accuracy_score(y_test, rf_y_pred)*100\n",
    "\n",
    "print(\"Classification Report:\")\n",
    "print(classification_report(y_test, y_pred))"
   ]
  },
  {
   "cell_type": "code",
   "execution_count": 18,
   "id": "afe1e9c3",
   "metadata": {},
   "outputs": [
    {
     "name": "stdout",
     "output_type": "stream",
     "text": [
      "Classification Report:\n",
      "              precision    recall  f1-score   support\n",
      "\n",
      "       False       1.00      0.96      0.98        24\n",
      "        True       0.96      1.00      0.98        22\n",
      "\n",
      "    accuracy                           0.98        46\n",
      "   macro avg       0.98      0.98      0.98        46\n",
      "weighted avg       0.98      0.98      0.98        46\n",
      "\n"
     ]
    }
   ],
   "source": [
    "from sklearn.neighbors import KNeighborsClassifier\n",
    "\n",
    "knn_classifier = KNeighborsClassifier()\n",
    "knn_classifier.fit(X_train, y_train)\n",
    "knn_y_pred = knn_classifier.predict(X_test)\n",
    "knn_accuracy = accuracy_score(y_test, knn_y_pred)*100\n",
    "\n",
    "print(\"Classification Report:\")\n",
    "print(classification_report(y_test, y_pred))"
   ]
  },
  {
   "cell_type": "code",
   "execution_count": 19,
   "id": "0f0c09fd",
   "metadata": {},
   "outputs": [
    {
     "name": "stdout",
     "output_type": "stream",
     "text": [
      "Classification Report:\n",
      "              precision    recall  f1-score   support\n",
      "\n",
      "       False       1.00      0.96      0.98        24\n",
      "        True       0.96      1.00      0.98        22\n",
      "\n",
      "    accuracy                           0.98        46\n",
      "   macro avg       0.98      0.98      0.98        46\n",
      "weighted avg       0.98      0.98      0.98        46\n",
      "\n"
     ]
    }
   ],
   "source": [
    "from sklearn.tree import DecisionTreeClassifier\n",
    "\n",
    "dt_classifier = DecisionTreeClassifier()\n",
    "dt_classifier.fit(X_train, y_train)\n",
    "dt_y_pred = dt_classifier.predict(X_test)\n",
    "dt_accuracy = accuracy_score(y_test, dt_y_pred)*100\n",
    "\n",
    "print(\"Classification Report:\")\n",
    "print(classification_report(y_test, y_pred))"
   ]
  },
  {
   "cell_type": "code",
   "execution_count": 20,
   "id": "5501b36f",
   "metadata": {},
   "outputs": [
    {
     "data": {
      "image/png": "[encoded data removed]",
      "text/plain": [
       "<Figure size 720x432 with 1 Axes>"
      ]
     },
     "metadata": {
      "needs_background": "light"
     },
     "output_type": "display_data"
    },
    {
     "name": "stdout",
     "output_type": "stream",
     "text": [
      "The best model is 'Random Forest' with an accuracy of 100.0\n"
     ]
    }
   ],
   "source": [
    "models = ['LinearSVC', 'Random Forest', 'KNN', 'Decision Tree']\n",
    "accuracies = [svm_accuracy, rf_accuracy, knn_accuracy, dt_accuracy]\n",
    "\n",
    "plt.figure(figsize=(10, 6))\n",
    "plt.bar(models, accuracies, color=['blue', 'green', 'orange', 'red'])\n",
    "plt.xlabel('Models')\n",
    "plt.ylabel('Accuracy')\n",
    "plt.title('Accuracy of Different Classification Models')\n",
    "plt.ylim(0, 100)\n",
    "plt.show()\n",
    "\n",
    "best_model_index = accuracies.index(max(accuracies))\n",
    "best_model = models[best_model_index]\n",
    "print(f\"The best model is '{best_model}' with an accuracy of {max(accuracies)}\")"
   ]
  },
  {
   "cell_type": "code",
   "execution_count": 21,
   "id": "d9796a75",
   "metadata": {},
   "outputs": [
    {
     "data": {
      "text/plain": [
       "LinearSVC()"
      ]
     },
     "execution_count": 21,
     "metadata": {},
     "output_type": "execute_result"
    }
   ],
   "source": [
    "classifier = LinearSVC()\n",
    "classifier.fit(X_train, y_train)"
   ]
  },
  {
   "cell_type": "code",
   "execution_count": 22,
   "id": "d7b4b314",
   "metadata": {},
   "outputs": [],
   "source": [
    "y_pred = classifier.predict(X_test)"
   ]
  },
  {
   "cell_type": "code",
   "execution_count": 23,
   "id": "608759c7",
   "metadata": {},
   "outputs": [
    {
     "data": {
      "image/png": "[encoded data removed]",
      "text/plain": [
       "<Figure size 576x432 with 2 Axes>"
      ]
     },
     "metadata": {
      "needs_background": "light"
     },
     "output_type": "display_data"
    }
   ],
   "source": [
    "from sklearn.metrics import confusion_matrix\n",
    "conf_mat = confusion_matrix(y_test, y_pred)\n",
    "plt.figure(figsize=(8, 6))\n",
    "sns.heatmap(conf_mat, annot=True, xticklabels=['True', 'False'], yticklabels=['True', 'False'])\n",
    "plt.title('Confusion Matrix')\n",
    "plt.xlabel('Predicted Label')\n",
    "plt.ylabel('True Label')\n",
    "plt.show()"
   ]
  },
  {
   "cell_type": "code",
   "execution_count": 25,
   "id": "80cee47f",
   "metadata": {},
   "outputs": [
    {
     "name": "stdout",
     "output_type": "stream",
     "text": [
      "LinearSVC model saved as 'linear_svc_model.pkl'\n"
     ]
    }
   ],
   "source": [
    "import pickle\n",
    "classifier = LinearSVC()\n",
    "classifier.fit(X_train, y_train)\n",
    "with open('linear_svc_model.pkl', 'wb') as model_file:\n",
    "    pickle.dump(classifier, model_file)\n",
    "print(\"LinearSVC model saved as 'linear_svc_model.pkl'\")"
   ]
  },
  {
   "cell_type": "code",
   "execution_count": 28,
   "id": "f54a7ae1",
   "metadata": {},
   "outputs": [
    {
     "name": "stdout",
     "output_type": "stream",
     "text": [
      "Enter rumor: aliens in nri\n",
      "Example prediction: [False]\n"
     ]
    }
   ],
   "source": [
    "with open('linear_svc_model.pkl', 'rb') as model_file:\n",
    "    loaded_model = pickle.load(model_file)\n",
    "example_text = [input(\"Enter rumor: \")]\n",
    "example_text_vectorized = vectorizer.transform(example_text)\n",
    "prediction = loaded_model.predict(example_text_vectorized)\n",
    "print(\"Example prediction:\", prediction)\n"
   ]
  }
 ],
 "metadata": {
  "kernelspec": {
   "display_name": "Python 3 (ipykernel)",
   "language": "python",
   "name": "python3"
  },
  "language_info": {
   "codemirror_mode": {
    "name": "ipython",
    "version": 3
   },
   "file_extension": ".py",
   "mimetype": "text/x-python",
   "name": "python",
   "nbconvert_exporter": "python",
   "pygments_lexer": "ipython3",
   "version": "3.9.7"
  }
 },
 "nbformat": 4,
 "nbformat_minor": 5
}
